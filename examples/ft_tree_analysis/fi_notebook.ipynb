{
 "metadata": {
  "language": "python",
  "name": ""
 },
 "nbformat": 3,
 "nbformat_minor": 0,
 "worksheets": [
  {
   "cells": [
    {
     "cell_type": "heading",
     "level": 1,
     "metadata": {},
     "source": [
      "Feature Importance Analysis"
     ]
    },
    {
     "cell_type": "code",
     "collapsed": false,
     "input": [
      "%matplotlib inline\n",
      "\n",
      "import math\n",
      "import pickle\n",
      "import numpy as np\n",
      "import matplotlib.pyplot as plt"
     ],
     "language": "python",
     "metadata": {},
     "outputs": [],
     "prompt_number": 1
    },
    {
     "cell_type": "code",
     "collapsed": false,
     "input": [
      "sk_model = pickle.load(open('pickles/clf_pickle.pkl', 'rb'))\n",
      "all_feature_importances = sk_model.feature_importances_\n",
      "params = sk_model.get_params()\n",
      "\n",
      "feature_names = np.array(['MedInc', 'HouseAge', 'AveRooms', 'AveBedrms', 'Population', 'AveOccup', 'Latitude', 'Longitude'])"
     ],
     "language": "python",
     "metadata": {},
     "outputs": [],
     "prompt_number": 2
    },
    {
     "cell_type": "code",
     "collapsed": false,
     "input": [
      "# Parameters passed into function here\n",
      "features_to_display = [0, 3, 5, 6]\n",
      "n_features_to_display = len(features_to_display)\n",
      "max_per_plot = 10\n",
      "\n",
      "# limit to 10 features per plot and 3 plots per row\n",
      "n_ax_cols = min(3, math.ceil(n_features_to_display / max_per_plot))\n",
      "n_ax_rows = math.ceil(n_features_to_display / max_per_plot / n_ax_cols)"
     ],
     "language": "python",
     "metadata": {},
     "outputs": [],
     "prompt_number": 3
    },
    {
     "cell_type": "markdown",
     "metadata": {},
     "source": [
      "<font color=\"blue\">\n",
      "## Bar Plots"
     ]
    },
    {
     "cell_type": "code",
     "collapsed": false,
     "input": [
      "# make importances relative to max importance\n",
      "feature_importance = 100.0 * (all_feature_importances / all_feature_importances.max())\n",
      "sorted_idx = np.argsort(feature_importance)[::-1]\n",
      "pos = np.arange(max_per_plot) + .5\n",
      "fig, (all_axes) = plt.subplots(n_ax_rows, n_ax_cols)\n",
      "\n",
      "if not isinstance(all_axes, np.ndarray):\n",
      "    all_axes = np.array([all_axes])\n",
      "\n",
      "for ax_ind, ax in enumerate(all_axes):\n",
      "    start_ind = ax_ind * max_per_plot\n",
      "    end_ind = min(start_ind + max_per_plot, n_features_to_display)\n",
      "    feature_inds = sorted_idx[start_ind:end_ind][::-1]\n",
      "    amount_to_fill = max_per_plot - len(feature_inds)\n",
      "\n",
      "    features_to_plot = feature_importance[feature_inds]\n",
      "    if amount_to_fill > 0:\n",
      "        features_to_plot = np.append(features_to_plot, np.zeros(amount_to_fill))\n",
      "\n",
      "\n",
      "    ax.barh(pos, features_to_plot, align='center', color='#A2F789')\n",
      "    ax.set_yticks(pos)\n",
      "    ax.set_yticklabels(feature_names[feature_inds])\n",
      "    ax.set_xticks(np.linspace(0, 100, 6))\n",
      "    ax.set_xlabel('Relative Importance')\n",
      "\n",
      "fig.tight_layout()\n",
      "plt.show()"
     ],
     "language": "python",
     "metadata": {},
     "outputs": [
      {
       "output_type": "display_data",
       "png": "[encoded data removed]",
       "text": [
        "<matplotlib.figure.Figure at 0x7f895adfaba8>"
       ]
      }
     ],
     "prompt_number": 4
    }
   ],
   "metadata": {}
  }
 ]
}
