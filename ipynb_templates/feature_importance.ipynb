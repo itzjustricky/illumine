{
 "cells": [
  {
   "cell_type": "markdown",
   "metadata": {},
   "source": [
    "# Feature Importance Analysis"
   ]
  },
  {
   "cell_type": "code",
   "execution_count": 8,
   "metadata": {
    "collapsed": true
   },
   "outputs": [],
   "source": [
    "%matplotlib inline"
   ]
  },
  {
   "cell_type": "code",
   "execution_count": 9,
   "metadata": {
    "collapsed": false
   },
   "outputs": [],
   "source": [
    "import math\n",
    "import pickle\n",
    "import numpy as np\n",
    "import matplotlib.pyplot as plt"
   ]
  },
  {
   "cell_type": "code",
   "execution_count": 10,
   "metadata": {
    "collapsed": false
   },
   "outputs": [],
   "source": [
    "clf = pickle.load(open('boston_fitted_gbregr.pkl', 'rb'))\n",
    "feature_names = np.array(['CRIM', 'ZN', 'INDUS', 'CHAS', 'NOX',\n",
    "                          'RM', 'AGE', 'DIS', 'RAD', 'TAX', 'PTRATIO', 'B', 'LSTAT'])\n",
    "\n",
    "all_feature_importance = clf.feature_importances_\n",
    "params = clf.get_params()"
   ]
  },
  {
   "cell_type": "code",
   "execution_count": 11,
   "metadata": {
    "collapsed": true
   },
   "outputs": [],
   "source": [
    "# Parameters passed into function here\n",
    "n_features_to_display = 13\n",
    "max_per_plot = 8\n",
    "\n",
    "# limit to 10 features per plot and 3 plots per row\n",
    "n_ax_cols = min(3, math.ceil(n_features_to_display / max_per_plot))\n",
    "n_ax_rows = math.ceil(n_features_to_display / max_per_plot / n_ax_cols)"
   ]
  },
  {
   "cell_type": "markdown",
   "metadata": {},
   "source": [
    "<font color=\"blue\">\n",
    "## Bar Plots"
   ]
  },
  {
   "cell_type": "code",
   "execution_count": 17,
   "metadata": {
    "collapsed": false
   },
   "outputs": [
    {
     "data": {
      "image/png": "[encoded data removed]",
      "text/plain": [
       "<matplotlib.figure.Figure at 0x7f3b95cdfb90>"
      ]
     },
     "metadata": {},
     "output_type": "display_data"
    }
   ],
   "source": [
    "# make importances relative to max importance\n",
    "feature_importance = 100.0 * (feature_importance / feature_importance.max())\n",
    "sorted_idx = np.argsort(feature_importance)[::-1][:n_features_to_display]\n",
    "pos = np.arange(max_per_plot) + .5\n",
    "fig, (all_axes) = plt.subplots(n_ax_rows, n_ax_cols)\n",
    "\n",
    "if not isinstance(all_axes, np.ndarray):\n",
    "    all_axes = np.array([all_axes])\n",
    "\n",
    "for ax_ind, ax in enumerate(all_axes):\n",
    "    start_ind = ax_ind * max_per_plot\n",
    "    end_ind = min(start_ind + max_per_plot, n_features_to_display)\n",
    "    feature_inds = sorted_idx[start_ind:end_ind][::-1]\n",
    "    amount_to_fill = max_per_plot - len(feature_inds)\n",
    "    \n",
    "    features_to_plot = feature_importance[feature_inds]\n",
    "    if amount_to_fill > 0:\n",
    "        features_to_plot = \\\n",
    "            np.append(features_to_plot, np.zeros(amount_to_fill))\n",
    "        \n",
    "\n",
    "    ax.barh(pos, features_to_plot, align='center', color='#A2F789')\n",
    "    ax.set_yticks(pos)\n",
    "    ax.set_yticklabels(feature_names[feature_inds])\n",
    "    ax.set_xticks(np.linspace(0, 100, 6))\n",
    "    ax.set_xlabel('Relative Importance')\n",
    "\n",
    "fig.tight_layout()\n",
    "plt.show()"
   ]
  }
 ],
 "metadata": {
  "kernelspec": {
   "display_name": "Python 3",
   "language": "python",
   "name": "python3"
  },
  "language_info": {
   "codemirror_mode": {
    "name": "ipython",
    "version": 3
   },
   "file_extension": ".py",
   "mimetype": "text/x-python",
   "name": "python",
   "nbconvert_exporter": "python",
   "pygments_lexer": "ipython3",
   "version": "3.3.5"
  }
 },
 "nbformat": 4,
 "nbformat_minor": 0
}
