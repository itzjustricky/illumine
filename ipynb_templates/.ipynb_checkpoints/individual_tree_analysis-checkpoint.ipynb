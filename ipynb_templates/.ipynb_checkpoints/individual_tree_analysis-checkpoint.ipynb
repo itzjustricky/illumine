{
 "cells": [
  {
   "cell_type": "markdown",
   "metadata": {},
   "source": [
    "# Gradient Boosting regression"
   ]
  },
  {
   "cell_type": "code",
   "execution_count": 1,
   "metadata": {
    "collapsed": true
   },
   "outputs": [],
   "source": [
    "%matplotlib inline"
   ]
  },
  {
   "cell_type": "code",
   "execution_count": 2,
   "metadata": {
    "collapsed": false
   },
   "outputs": [],
   "source": [
    "import math\n",
    "import pickle\n",
    "\n",
    "import numpy as np\n",
    "\n",
    "import matplotlib.pyplot as plt"
   ]
  },
  {
   "cell_type": "code",
   "execution_count": 3,
   "metadata": {
    "collapsed": true
   },
   "outputs": [],
   "source": [
    "clf = pickle.load(open('boston_fitted_gbregr.pkl', 'rb'))\n",
    "feature_names = np.array(['CRIM', 'ZN', 'INDUS', 'CHAS', 'NOX', 'RM', 'AGE', 'DIS', 'RAD', 'TAX', 'PTRATIO', 'B', 'LSTAT'])\n",
    "params = clf.get_params()"
   ]
  },
  {
   "cell_type": "code",
   "execution_count": 4,
   "metadata": {
    "collapsed": false
   },
   "outputs": [],
   "source": [
    "feature_importance = clf.feature_importances_\n",
    "if len(feature_names) != feature_importance.shape[0]:\n",
    "    raise ValueError(\"The passed feature_names is not valid. The order \\\n",
    "                      of the feature_names should match indices of the \\\n",
    "                      data the model was trained on.\")\n",
    "n_features = feature_importance.shape[0]"
   ]
  },
  {
   "cell_type": "markdown",
   "metadata": {},
   "source": [
    "# Analysis of Nodes"
   ]
  },
  {
   "cell_type": "code",
   "execution_count": 81,
   "metadata": {
    "collapsed": false,
    "scrolled": true
   },
   "outputs": [],
   "source": [
    "from illumine.woodland import breakdown_tree\n",
    "\n",
    "unique_node_cnts = dict()\n",
    "cumsum_node_values = dict()\n",
    "mean_node_values = dict()\n",
    "n_total_nodes = 0\n",
    "\n",
    "for estimator in clf.estimators_:\n",
    "    estimator = estimator.ravel()[0]\n",
    "    estimator_nodes = breakdown_tree(estimator, feature_names,\n",
    "                                     display_relation=True)\n",
    "    \n",
    "    for node in estimator_nodes:\n",
    "        n_total_nodes += 1\n",
    "        node_path = node.get_path()\n",
    "        unique_node_cnts[node_path] = unique_node_cnts.get(node_path, 0) + 1\n",
    "        cumsum_node_values[node_path] = cumsum_node_values.get(node_path, 0) + node.get_value()\n",
    "        \n",
    "for key, val in cumsum_node_values.items():\n",
    "    mean_node_values[key] = round(val / unique_node_cnts[key], 3)"
   ]
  },
  {
   "cell_type": "code",
   "execution_count": 82,
   "metadata": {
    "collapsed": false,
    "scrolled": true
   },
   "outputs": [
    {
     "name": "stdout",
     "output_type": "stream",
     "text": [
      "The ratio of unique nodes to total # of nodes is 0.360\n"
     ]
    }
   ],
   "source": [
    "print(\"The ratio of unique nodes to total # of nodes is {:0.3f}\"\n",
    "      .format(len(unique_node_cnts) / n_total_nodes))"
   ]
  },
  {
   "cell_type": "code",
   "execution_count": 83,
   "metadata": {
    "collapsed": false,
    "scrolled": true
   },
   "outputs": [],
   "source": [
    "import operator\n",
    "\n",
    "node_sorted_bycount = sorted(unique_node_cnts.items(),\n",
    "                             key=operator.itemgetter(1), reverse=True)\n",
    "node_sorted_bymean = sorted(mean_node_values.items(),\n",
    "                            key=operator.itemgetter(1), reverse=True)\n",
    "node_sorted_bycumsum = sorted(cumsum_node_values.items(),\n",
    "                              key=operator.itemgetter(1), reverse=True)"
   ]
  },
  {
   "cell_type": "code",
   "execution_count": 84,
   "metadata": {
    "collapsed": true
   },
   "outputs": [],
   "source": [
    "def pretty_print(tup_list, title=None):\n",
    "    if title is not None:\n",
    "        print(title)\n",
    "    for tup in tup_list: print(\"{}, {}\".format(tup[0], tup[1]))"
   ]
  },
  {
   "cell_type": "code",
   "execution_count": 85,
   "metadata": {
    "collapsed": false
   },
   "outputs": [
    {
     "name": "stdout",
     "output_type": "stream",
     "text": [
      "Largest Count\n",
      "['LSTAT>10.14', 'B<=105.24', 'DIS>2.825'], 29\n",
      "['RM>6.612', 'PTRATIO>16.5', 'LSTAT<=4.83', 'B<=383.15'], 27\n",
      "['RM>6.612', 'PTRATIO>16.5', 'LSTAT<=4.83', 'B>383.15'], 27\n",
      "['RM>6.612', 'PTRATIO<=16.5', 'DIS<=6.759', 'RM<=7.864'], 23\n",
      "['RM>6.612', 'PTRATIO<=16.5', 'DIS<=6.759', 'RM>7.864'], 23\n",
      "\n",
      "Largest Mean\n",
      "['RM<=6.941', 'LSTAT<=14.395', 'DIS<=1.434', 'LSTAT<=10.83'], 25.245\n",
      "['RM<=6.941', 'LSTAT<=14.395', 'DIS<=1.434', 'CRIM<=10.592'], 24.698\n",
      "['LSTAT<=9.63', 'RM<=7.437', 'DIS<=1.485', 'B>383.785'], 24.178\n",
      "['RM>6.941', 'RM>7.437', 'NOX<=0.683', 'PTRATIO<=17.9'], 23.814\n",
      "['LSTAT<=9.63', 'RM<=7.437', 'DIS<=1.485', 'B<=383.785'], 23.654\n",
      "\n",
      "Smallest Mean\n",
      "['RM>6.941', 'RM<=7.437', 'CRIM>7.393', 'AGE<=94.9'], -12.244\n",
      "['RM>6.941', 'RM<=7.437', 'CRIM>7.393', 'CRIM>54.293'], -12.121\n",
      "['RM>6.941', 'RM<=7.437', 'NOX>0.659', 'LSTAT>16.975'], -12.0\n",
      "['LSTAT>9.63', 'LSTAT>15.0', 'NOX>0.603', 'CRIM>11.369'], -11.832\n"
     ]
    }
   ],
   "source": [
    "n_show = 5\n",
    "\n",
    "pretty_print(node_sorted_bycount[:n_show], title=\"Largest Count\"); print()\n",
    "# pretty_print(node_sorted_bycount[:-n_show:-1], title=\"Smallest Count\"); print()\n",
    "pretty_print(node_sorted_bymean[:n_show], title=\"Largest Mean\"); print()\n",
    "pretty_print(node_sorted_bymean[:-n_show:-1], title=\"Smallest Mean\")\n",
    "\n"
   ]
  },
  {
   "cell_type": "code",
   "execution_count": 86,
   "metadata": {
    "collapsed": false
   },
   "outputs": [
    {
     "name": "stdout",
     "output_type": "stream",
     "text": [
      "Cumulative Sum\n",
      "['LSTAT>7.685', 'LSTAT<=15.0', 'DIS<=1.227'], 285.512\n",
      "['RM<=6.941', 'LSTAT<=14.395', 'DIS<=1.434', 'B>339.985'], 267.74199999999996\n",
      "['RM<=6.941', 'LSTAT<=14.395', 'DIS<=1.434', 'CRIM<=10.592'], 172.88899999999998\n",
      "['LSTAT>5.44', 'LSTAT<=11.675', 'RM>7.083', 'RM>7.994'], 150.623\n",
      "['LSTAT<=9.725', 'RM<=7.141', 'DIS<=1.485', 'RM>6.849'], 144.539\n"
     ]
    }
   ],
   "source": [
    "pretty_print(node_sorted_bycumsum[:n_show], title=\"Cumulative Sum\")"
   ]
  }
 ],
 "metadata": {
  "kernelspec": {
   "display_name": "Python 3",
   "language": "python",
   "name": "python3"
  },
  "language_info": {
   "codemirror_mode": {
    "name": "ipython",
    "version": 3
   },
   "file_extension": ".py",
   "mimetype": "text/x-python",
   "name": "python",
   "nbconvert_exporter": "python",
   "pygments_lexer": "ipython3",
   "version": "3.3.5"
  }
 },
 "nbformat": 4,
 "nbformat_minor": 0
}
