{
 "cells": [
  {
   "cell_type": "markdown",
   "metadata": {},
   "source": [
    "# Feature Analysis"
   ]
  },
  {
   "cell_type": "code",
   "execution_count": 1,
   "metadata": {
    "collapsed": true
   },
   "outputs": [],
   "source": [
    "%matplotlib inline"
   ]
  },
  {
   "cell_type": "code",
   "execution_count": 2,
   "metadata": {
    "collapsed": false
   },
   "outputs": [],
   "source": [
    "import pickle\n",
    "from datetime import datetime\n",
    "\n",
    "import numpy as np\n",
    "import pandas as pd\n",
    "\n",
    "import matplotlib.pyplot as plt"
   ]
  },
  {
   "cell_type": "code",
   "execution_count": 4,
   "metadata": {
    "collapsed": false
   },
   "outputs": [],
   "source": [
    "# Data parameters\n",
    "X_data = pickle.load(open('X_train.pkl', 'rb'))  # allow pickle or csv\n",
    "feature_names = np.array(['CRIM', 'ZN', 'INDUS', 'CHAS', 'NOX', 'RM',\n",
    "                          'AGE', 'DIS', 'RAD', 'TAX', 'PTRATIO', 'B', 'LSTAT'])\n",
    "\n",
    "data_df = pd.DataFrame(X_data, columns=feature_names)"
   ]
  },
  {
   "cell_type": "markdown",
   "metadata": {},
   "source": [
    "# Analysis through PCA"
   ]
  },
  {
   "cell_type": "code",
   "execution_count": 5,
   "metadata": {
    "collapsed": true
   },
   "outputs": [],
   "source": [
    "from sklearn.preprocessing import StandardScaler\n",
    "from sklearn.decomposition import PCA"
   ]
  },
  {
   "cell_type": "code",
   "execution_count": 9,
   "metadata": {
    "collapsed": false
   },
   "outputs": [],
   "source": [
    "# wrapped in scikit object\n",
    "# pca = PCA(n_components='mle', svd_solver='full')\n",
    "pca = PCA(n_components=3)\n",
    "X_reduced = pca.fit_transform(X)\n",
    "\n",
    "eigen_vector = pca.components_"
   ]
  },
  {
   "cell_type": "markdown",
   "metadata": {},
   "source": [
    "# The Largest Coefficients for Principle Component"
   ]
  },
  {
   "cell_type": "code",
   "execution_count": 8,
   "metadata": {
    "collapsed": false
   },
   "outputs": [
    {
     "name": "stdout",
     "output_type": "stream",
     "text": [
      "TAX            0.95252\n",
      "B              -0.28095\n",
      "AGE            0.08620\n",
      "ZN             -0.04545\n",
      "RAD            0.04496\n",
      "INDUS          0.02900\n",
      "CRIM           0.02864\n",
      "LSTAT          0.02270\n",
      "DIS            -0.00679\n",
      "PTRATIO        0.00573\n",
      "RM             -0.00114\n",
      "NOX            0.00046\n",
      "CHAS           -0.00005\n"
     ]
    }
   ],
   "source": [
    "p_component = eigen_vector[0]\n",
    "sorted_inds = np.argsort(np.abs(p_component))[::-1]\n",
    "\n",
    "np.set_printoptions()\n",
    "for x, y in zip(feature_names[sorted_inds], p_component[sorted_inds]):\n",
    "    print('{:<15}{:3.5f}'.format(x, y))"
   ]
  },
  {
   "cell_type": "code",
   "execution_count": 42,
   "metadata": {
    "collapsed": false,
    "scrolled": true
   },
   "outputs": [
    {
     "data": {
      "image/png": "[encoded data removed]",
      "text/plain": [
       "<matplotlib.figure.Figure at 0x7f8bafc4db90>"
      ]
     },
     "metadata": {},
     "output_type": "display_data"
    }
   ],
   "source": [
    "import matplotlib.gridspec as gridspec\n",
    "AX = gridspec.GridSpec(2, 3)\n",
    "AX.update(wspace=0.5, hspace=0.5)\n",
    "\n",
    "ax_eig = plt.subplot(AX[0, 0])\n",
    "ax_eigv = plt.subplot(AX[0, 1:3])\n",
    "ax_main = plt.subplot(AX[1, :3])\n",
    "\n",
    "all_axes = (ax_eig, ax_eigv, ax_main)\n",
    "all_titles = [\"Variance Intensities\", \"Factor Loadings\", \"Reduced Data\"]\n",
    "all_data = [pca.explained_variance_ratio_.reshape(3, 1),\n",
    "            eigen_vector, X_reduced.T]\n",
    "\n",
    "for tup in zip(all_axes, all_titles, all_data):\n",
    "    ax, title, data = tup\n",
    "    ax.pcolor(data, cmap='YlGnBu')\n",
    "    ax.set_title(title)\n",
    "    ax.set_xticks([], minor=False)  # Get rid of tick labels for x-axis\n",
    "    ax.set_yticks([], minor=False)  # Get rid of tick labels for y-axis\n",
    "    ax.axis('tight')\n",
    "\n",
    "plt.show()"
   ]
  }
 ],
 "metadata": {
  "kernelspec": {
   "display_name": "Python 3",
   "language": "python",
   "name": "python3"
  },
  "language_info": {
   "codemirror_mode": {
    "name": "ipython",
    "version": 3
   },
   "file_extension": ".py",
   "mimetype": "text/x-python",
   "name": "python",
   "nbconvert_exporter": "python",
   "pygments_lexer": "ipython3",
   "version": "3.3.5"
  }
 },
 "nbformat": 4,
 "nbformat_minor": 0
}
